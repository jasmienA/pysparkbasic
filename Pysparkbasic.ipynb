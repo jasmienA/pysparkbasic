{
  "nbformat": 4,
  "nbformat_minor": 0,
  "metadata": {
    "colab": {
      "name": "Pysparkbasic.ipynb",
      "provenance": [],
      "collapsed_sections": [],
      "authorship_tag": "ABX9TyN0uok9L+WzuA8m2nOwWydw",
      "include_colab_link": true
    },
    "kernelspec": {
      "name": "python3",
      "display_name": "Python 3"
    },
    "language_info": {
      "name": "python"
    }
  },
  "cells": [
    {
      "cell_type": "markdown",
      "metadata": {
        "id": "view-in-github",
        "colab_type": "text"
      },
      "source": [
        "<a href=\"https://colab.research.google.com/github/jasmienA/pysparkbasic/blob/main/Pysparkbasic.ipynb\" target=\"_parent\"><img src=\"https://colab.research.google.com/assets/colab-badge.svg\" alt=\"Open In Colab\"/></a>"
      ]
    },
    {
      "cell_type": "code",
      "metadata": {
        "id": "hXzhqbN601Ik"
      },
      "source": [
        "!apt-get install openjdk-8-jdk-headless -qq > /dev/null\n",
        "!wget -q http://archive.apache.org/dist/spark/spark-3.1.1/spark-3.1.1-bin-hadoop3.2.tgz\n",
        "!tar xf spark-3.1.1-bin-hadoop3.2.tgz\n",
        "!pip install -q findspark\n"
      ],
      "execution_count": 1,
      "outputs": []
    },
    {
      "cell_type": "code",
      "metadata": {
        "id": "2Jb2CbSi1Ld0"
      },
      "source": [
        "import os\n",
        "os.environ[\"JAVA_HOME\"] = \"/usr/lib/jvm/java-8-openjdk-amd64\"\n",
        "os.environ[\"SPARK_HOME\"] = \"/content/spark-3.1.1-bin-hadoop3.2\""
      ],
      "execution_count": 2,
      "outputs": []
    },
    {
      "cell_type": "code",
      "metadata": {
        "colab": {
          "base_uri": "https://localhost:8080/",
          "height": 219
        },
        "id": "V8lHgtpV1bAU",
        "outputId": "9bf82b7f-b8ae-4786-d7f9-f42c69ed98b1"
      },
      "source": [
        "import findspark\n",
        "findspark.init()\n",
        "from pyspark.sql import SparkSession\n",
        "spark = SparkSession.builder.master(\"local[*]\").getOrCreate()\n",
        "spark.conf.set(\"spark.sql.repl.eagerEval.enabled\", True) # Property used to format output tables better\n",
        "spark"
      ],
      "execution_count": 3,
      "outputs": [
        {
          "output_type": "execute_result",
          "data": {
            "text/html": [
              "\n",
              "            <div>\n",
              "                <p><b>SparkSession - in-memory</b></p>\n",
              "                \n",
              "        <div>\n",
              "            <p><b>SparkContext</b></p>\n",
              "\n",
              "            <p><a href=\"http://eb34240870fe:4040\">Spark UI</a></p>\n",
              "\n",
              "            <dl>\n",
              "              <dt>Version</dt>\n",
              "                <dd><code>v3.1.1</code></dd>\n",
              "              <dt>Master</dt>\n",
              "                <dd><code>local[*]</code></dd>\n",
              "              <dt>AppName</dt>\n",
              "                <dd><code>pyspark-shell</code></dd>\n",
              "            </dl>\n",
              "        </div>\n",
              "        \n",
              "            </div>\n",
              "        "
            ],
            "text/plain": [
              "<pyspark.sql.session.SparkSession at 0x7f737f2fe550>"
            ]
          },
          "metadata": {},
          "execution_count": 3
        }
      ]
    },
    {
      "cell_type": "code",
      "metadata": {
        "id": "JZDoxIahdtlh"
      },
      "source": [
        ""
      ],
      "execution_count": null,
      "outputs": []
    },
    {
      "cell_type": "markdown",
      "metadata": {
        "id": "vFjMw3HjduAY"
      },
      "source": [
        ""
      ]
    },
    {
      "cell_type": "code",
      "metadata": {
        "id": "ocIUapLVduWf"
      },
      "source": [
        ""
      ],
      "execution_count": null,
      "outputs": []
    },
    {
      "cell_type": "code",
      "metadata": {
        "id": "ZdxP0pJm1fvV"
      },
      "source": [
        "#loading the csv into a dataframe\n",
        "\n",
        "titanic_df = spark.read.csv(\"train.csv\",header=True,inferSchema=True)"
      ],
      "execution_count": 8,
      "outputs": []
    },
    {
      "cell_type": "code",
      "metadata": {
        "colab": {
          "base_uri": "https://localhost:8080/",
          "height": 529
        },
        "id": "t29tw0cr5ka2",
        "outputId": "a815b543-01ee-4d18-da79-a26bf9aefbd7"
      },
      "source": [
        "titanic_df"
      ],
      "execution_count": 6,
      "outputs": [
        {
          "output_type": "execute_result",
          "data": {
            "text/html": [
              "<table border='1'>\n",
              "<tr><th>PassengerId</th><th>Survived</th><th>Pclass</th><th>Name</th><th>Sex</th><th>Age</th><th>SibSp</th><th>Parch</th><th>Ticket</th><th>Fare</th><th>Cabin</th><th>Embarked</th></tr>\n",
              "<tr><td>1</td><td>0</td><td>3</td><td>Braund, Mr. Owen ...</td><td>male</td><td>22</td><td>1</td><td>0</td><td>A/5 21171</td><td>7.25</td><td>null</td><td>S</td></tr>\n",
              "<tr><td>2</td><td>1</td><td>1</td><td>Cumings, Mrs. Joh...</td><td>female</td><td>38</td><td>1</td><td>0</td><td>PC 17599</td><td>71.2833</td><td>C85</td><td>C</td></tr>\n",
              "<tr><td>3</td><td>1</td><td>3</td><td>Heikkinen, Miss. ...</td><td>female</td><td>26</td><td>0</td><td>0</td><td>STON/O2. 3101282</td><td>7.925</td><td>null</td><td>S</td></tr>\n",
              "<tr><td>4</td><td>1</td><td>1</td><td>Futrelle, Mrs. Ja...</td><td>female</td><td>35</td><td>1</td><td>0</td><td>113803</td><td>53.1</td><td>C123</td><td>S</td></tr>\n",
              "<tr><td>5</td><td>0</td><td>3</td><td>Allen, Mr. Willia...</td><td>male</td><td>35</td><td>0</td><td>0</td><td>373450</td><td>8.05</td><td>null</td><td>S</td></tr>\n",
              "<tr><td>6</td><td>0</td><td>3</td><td>Moran, Mr. James</td><td>male</td><td>null</td><td>0</td><td>0</td><td>330877</td><td>8.4583</td><td>null</td><td>Q</td></tr>\n",
              "<tr><td>7</td><td>0</td><td>1</td><td>McCarthy, Mr. Tim...</td><td>male</td><td>54</td><td>0</td><td>0</td><td>17463</td><td>51.8625</td><td>E46</td><td>S</td></tr>\n",
              "<tr><td>8</td><td>0</td><td>3</td><td>Palsson, Master. ...</td><td>male</td><td>2</td><td>3</td><td>1</td><td>349909</td><td>21.075</td><td>null</td><td>S</td></tr>\n",
              "<tr><td>9</td><td>1</td><td>3</td><td>Johnson, Mrs. Osc...</td><td>female</td><td>27</td><td>0</td><td>2</td><td>347742</td><td>11.1333</td><td>null</td><td>S</td></tr>\n",
              "<tr><td>10</td><td>1</td><td>2</td><td>Nasser, Mrs. Nich...</td><td>female</td><td>14</td><td>1</td><td>0</td><td>237736</td><td>30.0708</td><td>null</td><td>C</td></tr>\n",
              "<tr><td>11</td><td>1</td><td>3</td><td>Sandstrom, Miss. ...</td><td>female</td><td>4</td><td>1</td><td>1</td><td>PP 9549</td><td>16.7</td><td>G6</td><td>S</td></tr>\n",
              "<tr><td>12</td><td>1</td><td>1</td><td>Bonnell, Miss. El...</td><td>female</td><td>58</td><td>0</td><td>0</td><td>113783</td><td>26.55</td><td>C103</td><td>S</td></tr>\n",
              "<tr><td>13</td><td>0</td><td>3</td><td>Saundercock, Mr. ...</td><td>male</td><td>20</td><td>0</td><td>0</td><td>A/5. 2151</td><td>8.05</td><td>null</td><td>S</td></tr>\n",
              "<tr><td>14</td><td>0</td><td>3</td><td>Andersson, Mr. An...</td><td>male</td><td>39</td><td>1</td><td>5</td><td>347082</td><td>31.275</td><td>null</td><td>S</td></tr>\n",
              "<tr><td>15</td><td>0</td><td>3</td><td>Vestrom, Miss. Hu...</td><td>female</td><td>14</td><td>0</td><td>0</td><td>350406</td><td>7.8542</td><td>null</td><td>S</td></tr>\n",
              "<tr><td>16</td><td>1</td><td>2</td><td>Hewlett, Mrs. (Ma...</td><td>female</td><td>55</td><td>0</td><td>0</td><td>248706</td><td>16</td><td>null</td><td>S</td></tr>\n",
              "<tr><td>17</td><td>0</td><td>3</td><td>Rice, Master. Eugene</td><td>male</td><td>2</td><td>4</td><td>1</td><td>382652</td><td>29.125</td><td>null</td><td>Q</td></tr>\n",
              "<tr><td>18</td><td>1</td><td>2</td><td>Williams, Mr. Cha...</td><td>male</td><td>null</td><td>0</td><td>0</td><td>244373</td><td>13</td><td>null</td><td>S</td></tr>\n",
              "<tr><td>19</td><td>0</td><td>3</td><td>Vander Planke, Mr...</td><td>female</td><td>31</td><td>1</td><td>0</td><td>345763</td><td>18</td><td>null</td><td>S</td></tr>\n",
              "<tr><td>20</td><td>1</td><td>3</td><td>Masselmani, Mrs. ...</td><td>female</td><td>null</td><td>0</td><td>0</td><td>2649</td><td>7.225</td><td>null</td><td>C</td></tr>\n",
              "</table>\n",
              "only showing top 20 rows\n"
            ],
            "text/plain": [
              "+-----------+--------+------+--------------------+------+----+-----+-----+----------------+-------+-----+--------+\n",
              "|PassengerId|Survived|Pclass|                Name|   Sex| Age|SibSp|Parch|          Ticket|   Fare|Cabin|Embarked|\n",
              "+-----------+--------+------+--------------------+------+----+-----+-----+----------------+-------+-----+--------+\n",
              "|          1|       0|     3|Braund, Mr. Owen ...|  male|  22|    1|    0|       A/5 21171|   7.25| null|       S|\n",
              "|          2|       1|     1|Cumings, Mrs. Joh...|female|  38|    1|    0|        PC 17599|71.2833|  C85|       C|\n",
              "|          3|       1|     3|Heikkinen, Miss. ...|female|  26|    0|    0|STON/O2. 3101282|  7.925| null|       S|\n",
              "|          4|       1|     1|Futrelle, Mrs. Ja...|female|  35|    1|    0|          113803|   53.1| C123|       S|\n",
              "|          5|       0|     3|Allen, Mr. Willia...|  male|  35|    0|    0|          373450|   8.05| null|       S|\n",
              "|          6|       0|     3|    Moran, Mr. James|  male|null|    0|    0|          330877| 8.4583| null|       Q|\n",
              "|          7|       0|     1|McCarthy, Mr. Tim...|  male|  54|    0|    0|           17463|51.8625|  E46|       S|\n",
              "|          8|       0|     3|Palsson, Master. ...|  male|   2|    3|    1|          349909| 21.075| null|       S|\n",
              "|          9|       1|     3|Johnson, Mrs. Osc...|female|  27|    0|    2|          347742|11.1333| null|       S|\n",
              "|         10|       1|     2|Nasser, Mrs. Nich...|female|  14|    1|    0|          237736|30.0708| null|       C|\n",
              "|         11|       1|     3|Sandstrom, Miss. ...|female|   4|    1|    1|         PP 9549|   16.7|   G6|       S|\n",
              "|         12|       1|     1|Bonnell, Miss. El...|female|  58|    0|    0|          113783|  26.55| C103|       S|\n",
              "|         13|       0|     3|Saundercock, Mr. ...|  male|  20|    0|    0|       A/5. 2151|   8.05| null|       S|\n",
              "|         14|       0|     3|Andersson, Mr. An...|  male|  39|    1|    5|          347082| 31.275| null|       S|\n",
              "|         15|       0|     3|Vestrom, Miss. Hu...|female|  14|    0|    0|          350406| 7.8542| null|       S|\n",
              "|         16|       1|     2|Hewlett, Mrs. (Ma...|female|  55|    0|    0|          248706|     16| null|       S|\n",
              "|         17|       0|     3|Rice, Master. Eugene|  male|   2|    4|    1|          382652| 29.125| null|       Q|\n",
              "|         18|       1|     2|Williams, Mr. Cha...|  male|null|    0|    0|          244373|     13| null|       S|\n",
              "|         19|       0|     3|Vander Planke, Mr...|female|  31|    1|    0|          345763|     18| null|       S|\n",
              "|         20|       1|     3|Masselmani, Mrs. ...|female|null|    0|    0|            2649|  7.225| null|       C|\n",
              "+-----------+--------+------+--------------------+------+----+-----+-----+----------------+-------+-----+--------+\n",
              "only showing top 20 rows"
            ]
          },
          "metadata": {},
          "execution_count": 6
        }
      ]
    },
    {
      "cell_type": "code",
      "metadata": {
        "colab": {
          "base_uri": "https://localhost:8080/"
        },
        "id": "YUD7HLJw5q_I",
        "outputId": "fdc8189f-b589-4d71-98ec-b71065fdef24"
      },
      "source": [
        "titanic_df.printSchema()"
      ],
      "execution_count": 9,
      "outputs": [
        {
          "output_type": "stream",
          "name": "stdout",
          "text": [
            "root\n",
            " |-- PassengerId: integer (nullable = true)\n",
            " |-- Survived: integer (nullable = true)\n",
            " |-- Pclass: integer (nullable = true)\n",
            " |-- Name: string (nullable = true)\n",
            " |-- Sex: string (nullable = true)\n",
            " |-- Age: double (nullable = true)\n",
            " |-- SibSp: integer (nullable = true)\n",
            " |-- Parch: integer (nullable = true)\n",
            " |-- Ticket: string (nullable = true)\n",
            " |-- Fare: double (nullable = true)\n",
            " |-- Cabin: string (nullable = true)\n",
            " |-- Embarked: string (nullable = true)\n",
            "\n"
          ]
        }
      ]
    },
    {
      "cell_type": "code",
      "metadata": {
        "colab": {
          "base_uri": "https://localhost:8080/",
          "height": 161
        },
        "id": "W7yX5qcA6DTQ",
        "outputId": "cec9359a-de7a-4c50-965a-98299d0e91af"
      },
      "source": [
        "titanic_df.limit(5)"
      ],
      "execution_count": 10,
      "outputs": [
        {
          "output_type": "execute_result",
          "data": {
            "text/html": [
              "<table border='1'>\n",
              "<tr><th>PassengerId</th><th>Survived</th><th>Pclass</th><th>Name</th><th>Sex</th><th>Age</th><th>SibSp</th><th>Parch</th><th>Ticket</th><th>Fare</th><th>Cabin</th><th>Embarked</th></tr>\n",
              "<tr><td>1</td><td>0</td><td>3</td><td>Braund, Mr. Owen ...</td><td>male</td><td>22.0</td><td>1</td><td>0</td><td>A/5 21171</td><td>7.25</td><td>null</td><td>S</td></tr>\n",
              "<tr><td>2</td><td>1</td><td>1</td><td>Cumings, Mrs. Joh...</td><td>female</td><td>38.0</td><td>1</td><td>0</td><td>PC 17599</td><td>71.2833</td><td>C85</td><td>C</td></tr>\n",
              "<tr><td>3</td><td>1</td><td>3</td><td>Heikkinen, Miss. ...</td><td>female</td><td>26.0</td><td>0</td><td>0</td><td>STON/O2. 3101282</td><td>7.925</td><td>null</td><td>S</td></tr>\n",
              "<tr><td>4</td><td>1</td><td>1</td><td>Futrelle, Mrs. Ja...</td><td>female</td><td>35.0</td><td>1</td><td>0</td><td>113803</td><td>53.1</td><td>C123</td><td>S</td></tr>\n",
              "<tr><td>5</td><td>0</td><td>3</td><td>Allen, Mr. Willia...</td><td>male</td><td>35.0</td><td>0</td><td>0</td><td>373450</td><td>8.05</td><td>null</td><td>S</td></tr>\n",
              "</table>\n"
            ],
            "text/plain": [
              "+-----------+--------+------+--------------------+------+----+-----+-----+----------------+-------+-----+--------+\n",
              "|PassengerId|Survived|Pclass|                Name|   Sex| Age|SibSp|Parch|          Ticket|   Fare|Cabin|Embarked|\n",
              "+-----------+--------+------+--------------------+------+----+-----+-----+----------------+-------+-----+--------+\n",
              "|          1|       0|     3|Braund, Mr. Owen ...|  male|22.0|    1|    0|       A/5 21171|   7.25| null|       S|\n",
              "|          2|       1|     1|Cumings, Mrs. Joh...|female|38.0|    1|    0|        PC 17599|71.2833|  C85|       C|\n",
              "|          3|       1|     3|Heikkinen, Miss. ...|female|26.0|    0|    0|STON/O2. 3101282|  7.925| null|       S|\n",
              "|          4|       1|     1|Futrelle, Mrs. Ja...|female|35.0|    1|    0|          113803|   53.1| C123|       S|\n",
              "|          5|       0|     3|Allen, Mr. Willia...|  male|35.0|    0|    0|          373450|   8.05| null|       S|\n",
              "+-----------+--------+------+--------------------+------+----+-----+-----+----------------+-------+-----+--------+"
            ]
          },
          "metadata": {},
          "execution_count": 10
        }
      ]
    },
    {
      "cell_type": "code",
      "metadata": {
        "colab": {
          "base_uri": "https://localhost:8080/",
          "height": 529
        },
        "id": "SMtaMTyy6YAn",
        "outputId": "29155376-18d0-4513-de79-b68b16713b8b"
      },
      "source": [
        "titanic_df.select('*')"
      ],
      "execution_count": 11,
      "outputs": [
        {
          "output_type": "execute_result",
          "data": {
            "text/html": [
              "<table border='1'>\n",
              "<tr><th>PassengerId</th><th>Survived</th><th>Pclass</th><th>Name</th><th>Sex</th><th>Age</th><th>SibSp</th><th>Parch</th><th>Ticket</th><th>Fare</th><th>Cabin</th><th>Embarked</th></tr>\n",
              "<tr><td>1</td><td>0</td><td>3</td><td>Braund, Mr. Owen ...</td><td>male</td><td>22.0</td><td>1</td><td>0</td><td>A/5 21171</td><td>7.25</td><td>null</td><td>S</td></tr>\n",
              "<tr><td>2</td><td>1</td><td>1</td><td>Cumings, Mrs. Joh...</td><td>female</td><td>38.0</td><td>1</td><td>0</td><td>PC 17599</td><td>71.2833</td><td>C85</td><td>C</td></tr>\n",
              "<tr><td>3</td><td>1</td><td>3</td><td>Heikkinen, Miss. ...</td><td>female</td><td>26.0</td><td>0</td><td>0</td><td>STON/O2. 3101282</td><td>7.925</td><td>null</td><td>S</td></tr>\n",
              "<tr><td>4</td><td>1</td><td>1</td><td>Futrelle, Mrs. Ja...</td><td>female</td><td>35.0</td><td>1</td><td>0</td><td>113803</td><td>53.1</td><td>C123</td><td>S</td></tr>\n",
              "<tr><td>5</td><td>0</td><td>3</td><td>Allen, Mr. Willia...</td><td>male</td><td>35.0</td><td>0</td><td>0</td><td>373450</td><td>8.05</td><td>null</td><td>S</td></tr>\n",
              "<tr><td>6</td><td>0</td><td>3</td><td>Moran, Mr. James</td><td>male</td><td>null</td><td>0</td><td>0</td><td>330877</td><td>8.4583</td><td>null</td><td>Q</td></tr>\n",
              "<tr><td>7</td><td>0</td><td>1</td><td>McCarthy, Mr. Tim...</td><td>male</td><td>54.0</td><td>0</td><td>0</td><td>17463</td><td>51.8625</td><td>E46</td><td>S</td></tr>\n",
              "<tr><td>8</td><td>0</td><td>3</td><td>Palsson, Master. ...</td><td>male</td><td>2.0</td><td>3</td><td>1</td><td>349909</td><td>21.075</td><td>null</td><td>S</td></tr>\n",
              "<tr><td>9</td><td>1</td><td>3</td><td>Johnson, Mrs. Osc...</td><td>female</td><td>27.0</td><td>0</td><td>2</td><td>347742</td><td>11.1333</td><td>null</td><td>S</td></tr>\n",
              "<tr><td>10</td><td>1</td><td>2</td><td>Nasser, Mrs. Nich...</td><td>female</td><td>14.0</td><td>1</td><td>0</td><td>237736</td><td>30.0708</td><td>null</td><td>C</td></tr>\n",
              "<tr><td>11</td><td>1</td><td>3</td><td>Sandstrom, Miss. ...</td><td>female</td><td>4.0</td><td>1</td><td>1</td><td>PP 9549</td><td>16.7</td><td>G6</td><td>S</td></tr>\n",
              "<tr><td>12</td><td>1</td><td>1</td><td>Bonnell, Miss. El...</td><td>female</td><td>58.0</td><td>0</td><td>0</td><td>113783</td><td>26.55</td><td>C103</td><td>S</td></tr>\n",
              "<tr><td>13</td><td>0</td><td>3</td><td>Saundercock, Mr. ...</td><td>male</td><td>20.0</td><td>0</td><td>0</td><td>A/5. 2151</td><td>8.05</td><td>null</td><td>S</td></tr>\n",
              "<tr><td>14</td><td>0</td><td>3</td><td>Andersson, Mr. An...</td><td>male</td><td>39.0</td><td>1</td><td>5</td><td>347082</td><td>31.275</td><td>null</td><td>S</td></tr>\n",
              "<tr><td>15</td><td>0</td><td>3</td><td>Vestrom, Miss. Hu...</td><td>female</td><td>14.0</td><td>0</td><td>0</td><td>350406</td><td>7.8542</td><td>null</td><td>S</td></tr>\n",
              "<tr><td>16</td><td>1</td><td>2</td><td>Hewlett, Mrs. (Ma...</td><td>female</td><td>55.0</td><td>0</td><td>0</td><td>248706</td><td>16.0</td><td>null</td><td>S</td></tr>\n",
              "<tr><td>17</td><td>0</td><td>3</td><td>Rice, Master. Eugene</td><td>male</td><td>2.0</td><td>4</td><td>1</td><td>382652</td><td>29.125</td><td>null</td><td>Q</td></tr>\n",
              "<tr><td>18</td><td>1</td><td>2</td><td>Williams, Mr. Cha...</td><td>male</td><td>null</td><td>0</td><td>0</td><td>244373</td><td>13.0</td><td>null</td><td>S</td></tr>\n",
              "<tr><td>19</td><td>0</td><td>3</td><td>Vander Planke, Mr...</td><td>female</td><td>31.0</td><td>1</td><td>0</td><td>345763</td><td>18.0</td><td>null</td><td>S</td></tr>\n",
              "<tr><td>20</td><td>1</td><td>3</td><td>Masselmani, Mrs. ...</td><td>female</td><td>null</td><td>0</td><td>0</td><td>2649</td><td>7.225</td><td>null</td><td>C</td></tr>\n",
              "</table>\n",
              "only showing top 20 rows\n"
            ],
            "text/plain": [
              "+-----------+--------+------+--------------------+------+----+-----+-----+----------------+-------+-----+--------+\n",
              "|PassengerId|Survived|Pclass|                Name|   Sex| Age|SibSp|Parch|          Ticket|   Fare|Cabin|Embarked|\n",
              "+-----------+--------+------+--------------------+------+----+-----+-----+----------------+-------+-----+--------+\n",
              "|          1|       0|     3|Braund, Mr. Owen ...|  male|22.0|    1|    0|       A/5 21171|   7.25| null|       S|\n",
              "|          2|       1|     1|Cumings, Mrs. Joh...|female|38.0|    1|    0|        PC 17599|71.2833|  C85|       C|\n",
              "|          3|       1|     3|Heikkinen, Miss. ...|female|26.0|    0|    0|STON/O2. 3101282|  7.925| null|       S|\n",
              "|          4|       1|     1|Futrelle, Mrs. Ja...|female|35.0|    1|    0|          113803|   53.1| C123|       S|\n",
              "|          5|       0|     3|Allen, Mr. Willia...|  male|35.0|    0|    0|          373450|   8.05| null|       S|\n",
              "|          6|       0|     3|    Moran, Mr. James|  male|null|    0|    0|          330877| 8.4583| null|       Q|\n",
              "|          7|       0|     1|McCarthy, Mr. Tim...|  male|54.0|    0|    0|           17463|51.8625|  E46|       S|\n",
              "|          8|       0|     3|Palsson, Master. ...|  male| 2.0|    3|    1|          349909| 21.075| null|       S|\n",
              "|          9|       1|     3|Johnson, Mrs. Osc...|female|27.0|    0|    2|          347742|11.1333| null|       S|\n",
              "|         10|       1|     2|Nasser, Mrs. Nich...|female|14.0|    1|    0|          237736|30.0708| null|       C|\n",
              "|         11|       1|     3|Sandstrom, Miss. ...|female| 4.0|    1|    1|         PP 9549|   16.7|   G6|       S|\n",
              "|         12|       1|     1|Bonnell, Miss. El...|female|58.0|    0|    0|          113783|  26.55| C103|       S|\n",
              "|         13|       0|     3|Saundercock, Mr. ...|  male|20.0|    0|    0|       A/5. 2151|   8.05| null|       S|\n",
              "|         14|       0|     3|Andersson, Mr. An...|  male|39.0|    1|    5|          347082| 31.275| null|       S|\n",
              "|         15|       0|     3|Vestrom, Miss. Hu...|female|14.0|    0|    0|          350406| 7.8542| null|       S|\n",
              "|         16|       1|     2|Hewlett, Mrs. (Ma...|female|55.0|    0|    0|          248706|   16.0| null|       S|\n",
              "|         17|       0|     3|Rice, Master. Eugene|  male| 2.0|    4|    1|          382652| 29.125| null|       Q|\n",
              "|         18|       1|     2|Williams, Mr. Cha...|  male|null|    0|    0|          244373|   13.0| null|       S|\n",
              "|         19|       0|     3|Vander Planke, Mr...|female|31.0|    1|    0|          345763|   18.0| null|       S|\n",
              "|         20|       1|     3|Masselmani, Mrs. ...|female|null|    0|    0|            2649|  7.225| null|       C|\n",
              "+-----------+--------+------+--------------------+------+----+-----+-----+----------------+-------+-----+--------+\n",
              "only showing top 20 rows"
            ]
          },
          "metadata": {},
          "execution_count": 11
        }
      ]
    },
    {
      "cell_type": "code",
      "metadata": {
        "colab": {
          "base_uri": "https://localhost:8080/",
          "height": 161
        },
        "id": "YbLf3ICi6qDv",
        "outputId": "8450ca9a-4ce2-4283-b29d-68a04b46a55f"
      },
      "source": [
        "titanic_df.select('PassengerId','Survived').limit(5)"
      ],
      "execution_count": 13,
      "outputs": [
        {
          "output_type": "execute_result",
          "data": {
            "text/html": [
              "<table border='1'>\n",
              "<tr><th>PassengerId</th><th>Survived</th></tr>\n",
              "<tr><td>1</td><td>0</td></tr>\n",
              "<tr><td>2</td><td>1</td></tr>\n",
              "<tr><td>3</td><td>1</td></tr>\n",
              "<tr><td>4</td><td>1</td></tr>\n",
              "<tr><td>5</td><td>0</td></tr>\n",
              "</table>\n"
            ],
            "text/plain": [
              "+-----------+--------+\n",
              "|PassengerId|Survived|\n",
              "+-----------+--------+\n",
              "|          1|       0|\n",
              "|          2|       1|\n",
              "|          3|       1|\n",
              "|          4|       1|\n",
              "|          5|       0|\n",
              "+-----------+--------+"
            ]
          },
          "metadata": {},
          "execution_count": 13
        }
      ]
    },
    {
      "cell_type": "code",
      "metadata": {
        "colab": {
          "base_uri": "https://localhost:8080/",
          "height": 529
        },
        "id": "A-h4Ynrp7Upj",
        "outputId": "2698b94e-8de0-49ee-9bdf-9cb1411cd027"
      },
      "source": [
        "titanic_df.where((titanic_df.Survived ==1) & (titanic_df.Age>25))"
      ],
      "execution_count": 19,
      "outputs": [
        {
          "output_type": "execute_result",
          "data": {
            "text/html": [
              "<table border='1'>\n",
              "<tr><th>PassengerId</th><th>Survived</th><th>Pclass</th><th>Name</th><th>Sex</th><th>Age</th><th>SibSp</th><th>Parch</th><th>Ticket</th><th>Fare</th><th>Cabin</th><th>Embarked</th></tr>\n",
              "<tr><td>2</td><td>1</td><td>1</td><td>Cumings, Mrs. Joh...</td><td>female</td><td>38.0</td><td>1</td><td>0</td><td>PC 17599</td><td>71.2833</td><td>C85</td><td>C</td></tr>\n",
              "<tr><td>3</td><td>1</td><td>3</td><td>Heikkinen, Miss. ...</td><td>female</td><td>26.0</td><td>0</td><td>0</td><td>STON/O2. 3101282</td><td>7.925</td><td>null</td><td>S</td></tr>\n",
              "<tr><td>4</td><td>1</td><td>1</td><td>Futrelle, Mrs. Ja...</td><td>female</td><td>35.0</td><td>1</td><td>0</td><td>113803</td><td>53.1</td><td>C123</td><td>S</td></tr>\n",
              "<tr><td>9</td><td>1</td><td>3</td><td>Johnson, Mrs. Osc...</td><td>female</td><td>27.0</td><td>0</td><td>2</td><td>347742</td><td>11.1333</td><td>null</td><td>S</td></tr>\n",
              "<tr><td>12</td><td>1</td><td>1</td><td>Bonnell, Miss. El...</td><td>female</td><td>58.0</td><td>0</td><td>0</td><td>113783</td><td>26.55</td><td>C103</td><td>S</td></tr>\n",
              "<tr><td>16</td><td>1</td><td>2</td><td>Hewlett, Mrs. (Ma...</td><td>female</td><td>55.0</td><td>0</td><td>0</td><td>248706</td><td>16.0</td><td>null</td><td>S</td></tr>\n",
              "<tr><td>22</td><td>1</td><td>2</td><td>Beesley, Mr. Lawr...</td><td>male</td><td>34.0</td><td>0</td><td>0</td><td>248698</td><td>13.0</td><td>D56</td><td>S</td></tr>\n",
              "<tr><td>24</td><td>1</td><td>1</td><td>Sloper, Mr. Willi...</td><td>male</td><td>28.0</td><td>0</td><td>0</td><td>113788</td><td>35.5</td><td>A6</td><td>S</td></tr>\n",
              "<tr><td>26</td><td>1</td><td>3</td><td>Asplund, Mrs. Car...</td><td>female</td><td>38.0</td><td>1</td><td>5</td><td>347077</td><td>31.3875</td><td>null</td><td>S</td></tr>\n",
              "<tr><td>53</td><td>1</td><td>1</td><td>Harper, Mrs. Henr...</td><td>female</td><td>49.0</td><td>1</td><td>0</td><td>PC 17572</td><td>76.7292</td><td>D33</td><td>C</td></tr>\n",
              "<tr><td>54</td><td>1</td><td>2</td><td>Faunthorpe, Mrs. ...</td><td>female</td><td>29.0</td><td>1</td><td>0</td><td>2926</td><td>26.0</td><td>null</td><td>S</td></tr>\n",
              "<tr><td>62</td><td>1</td><td>1</td><td>Icard, Miss. Amelie</td><td>female</td><td>38.0</td><td>0</td><td>0</td><td>113572</td><td>80.0</td><td>B28</td><td>null</td></tr>\n",
              "<tr><td>67</td><td>1</td><td>2</td><td>Nye, Mrs. (Elizab...</td><td>female</td><td>29.0</td><td>0</td><td>0</td><td>C.A. 29395</td><td>10.5</td><td>F33</td><td>S</td></tr>\n",
              "<tr><td>75</td><td>1</td><td>3</td><td>Bing, Mr. Lee</td><td>male</td><td>32.0</td><td>0</td><td>0</td><td>1601</td><td>56.4958</td><td>null</td><td>S</td></tr>\n",
              "<tr><td>80</td><td>1</td><td>3</td><td>Dowdell, Miss. El...</td><td>female</td><td>30.0</td><td>0</td><td>0</td><td>364516</td><td>12.475</td><td>null</td><td>S</td></tr>\n",
              "<tr><td>82</td><td>1</td><td>3</td><td>Sheerlinck, Mr. J...</td><td>male</td><td>29.0</td><td>0</td><td>0</td><td>345779</td><td>9.5</td><td>null</td><td>S</td></tr>\n",
              "<tr><td>86</td><td>1</td><td>3</td><td>Backstrom, Mrs. K...</td><td>female</td><td>33.0</td><td>3</td><td>0</td><td>3101278</td><td>15.85</td><td>null</td><td>S</td></tr>\n",
              "<tr><td>99</td><td>1</td><td>2</td><td>Doling, Mrs. John...</td><td>female</td><td>34.0</td><td>0</td><td>1</td><td>231919</td><td>23.0</td><td>null</td><td>S</td></tr>\n",
              "<tr><td>124</td><td>1</td><td>2</td><td>Webber, Miss. Susan</td><td>female</td><td>32.5</td><td>0</td><td>0</td><td>27267</td><td>13.0</td><td>E101</td><td>S</td></tr>\n",
              "<tr><td>134</td><td>1</td><td>2</td><td>Weisz, Mrs. Leopo...</td><td>female</td><td>29.0</td><td>1</td><td>0</td><td>228414</td><td>26.0</td><td>null</td><td>S</td></tr>\n",
              "</table>\n",
              "only showing top 20 rows\n"
            ],
            "text/plain": [
              "+-----------+--------+------+--------------------+------+----+-----+-----+----------------+-------+-----+--------+\n",
              "|PassengerId|Survived|Pclass|                Name|   Sex| Age|SibSp|Parch|          Ticket|   Fare|Cabin|Embarked|\n",
              "+-----------+--------+------+--------------------+------+----+-----+-----+----------------+-------+-----+--------+\n",
              "|          2|       1|     1|Cumings, Mrs. Joh...|female|38.0|    1|    0|        PC 17599|71.2833|  C85|       C|\n",
              "|          3|       1|     3|Heikkinen, Miss. ...|female|26.0|    0|    0|STON/O2. 3101282|  7.925| null|       S|\n",
              "|          4|       1|     1|Futrelle, Mrs. Ja...|female|35.0|    1|    0|          113803|   53.1| C123|       S|\n",
              "|          9|       1|     3|Johnson, Mrs. Osc...|female|27.0|    0|    2|          347742|11.1333| null|       S|\n",
              "|         12|       1|     1|Bonnell, Miss. El...|female|58.0|    0|    0|          113783|  26.55| C103|       S|\n",
              "|         16|       1|     2|Hewlett, Mrs. (Ma...|female|55.0|    0|    0|          248706|   16.0| null|       S|\n",
              "|         22|       1|     2|Beesley, Mr. Lawr...|  male|34.0|    0|    0|          248698|   13.0|  D56|       S|\n",
              "|         24|       1|     1|Sloper, Mr. Willi...|  male|28.0|    0|    0|          113788|   35.5|   A6|       S|\n",
              "|         26|       1|     3|Asplund, Mrs. Car...|female|38.0|    1|    5|          347077|31.3875| null|       S|\n",
              "|         53|       1|     1|Harper, Mrs. Henr...|female|49.0|    1|    0|        PC 17572|76.7292|  D33|       C|\n",
              "|         54|       1|     2|Faunthorpe, Mrs. ...|female|29.0|    1|    0|            2926|   26.0| null|       S|\n",
              "|         62|       1|     1| Icard, Miss. Amelie|female|38.0|    0|    0|          113572|   80.0|  B28|    null|\n",
              "|         67|       1|     2|Nye, Mrs. (Elizab...|female|29.0|    0|    0|      C.A. 29395|   10.5|  F33|       S|\n",
              "|         75|       1|     3|       Bing, Mr. Lee|  male|32.0|    0|    0|            1601|56.4958| null|       S|\n",
              "|         80|       1|     3|Dowdell, Miss. El...|female|30.0|    0|    0|          364516| 12.475| null|       S|\n",
              "|         82|       1|     3|Sheerlinck, Mr. J...|  male|29.0|    0|    0|          345779|    9.5| null|       S|\n",
              "|         86|       1|     3|Backstrom, Mrs. K...|female|33.0|    3|    0|         3101278|  15.85| null|       S|\n",
              "|         99|       1|     2|Doling, Mrs. John...|female|34.0|    0|    1|          231919|   23.0| null|       S|\n",
              "|        124|       1|     2| Webber, Miss. Susan|female|32.5|    0|    0|           27267|   13.0| E101|       S|\n",
              "|        134|       1|     2|Weisz, Mrs. Leopo...|female|29.0|    1|    0|          228414|   26.0| null|       S|\n",
              "+-----------+--------+------+--------------------+------+----+-----+-----+----------------+-------+-----+--------+\n",
              "only showing top 20 rows"
            ]
          },
          "metadata": {},
          "execution_count": 19
        }
      ]
    },
    {
      "cell_type": "code",
      "metadata": {
        "colab": {
          "base_uri": "https://localhost:8080/",
          "height": 68
        },
        "id": "mdKywObF8Hzi",
        "outputId": "0364621a-1806-41d3-9422-297f9ce32257"
      },
      "source": [
        "titanic_df.agg({'Survived':'min'})"
      ],
      "execution_count": 24,
      "outputs": [
        {
          "output_type": "execute_result",
          "data": {
            "text/html": [
              "<table border='1'>\n",
              "<tr><th>min(Survived)</th></tr>\n",
              "<tr><td>0</td></tr>\n",
              "</table>\n"
            ],
            "text/plain": [
              "+-------------+\n",
              "|min(Survived)|\n",
              "+-------------+\n",
              "|            0|\n",
              "+-------------+"
            ]
          },
          "metadata": {},
          "execution_count": 24
        }
      ]
    },
    {
      "cell_type": "code",
      "metadata": {
        "colab": {
          "base_uri": "https://localhost:8080/",
          "height": 114
        },
        "id": "nbg6XVIG8Xc0",
        "outputId": "e737dcaf-6fdc-4d61-9012-475399c050b4"
      },
      "source": [
        " titanic_df.groupby('Pclass').agg({'Age':'avg'}).orderBy('Pclass')"
      ],
      "execution_count": 27,
      "outputs": [
        {
          "output_type": "execute_result",
          "data": {
            "text/html": [
              "<table border='1'>\n",
              "<tr><th>Pclass</th><th>avg(Age)</th></tr>\n",
              "<tr><td>1</td><td>38.233440860215055</td></tr>\n",
              "<tr><td>2</td><td>29.87763005780347</td></tr>\n",
              "<tr><td>3</td><td>25.14061971830986</td></tr>\n",
              "</table>\n"
            ],
            "text/plain": [
              "+------+------------------+\n",
              "|Pclass|          avg(Age)|\n",
              "+------+------------------+\n",
              "|     1|38.233440860215055|\n",
              "|     2| 29.87763005780347|\n",
              "|     3| 25.14061971830986|\n",
              "+------+------------------+"
            ]
          },
          "metadata": {},
          "execution_count": 27
        }
      ]
    },
    {
      "cell_type": "code",
      "metadata": {
        "colab": {
          "base_uri": "https://localhost:8080/",
          "height": 68
        },
        "id": "M83Zq9BSBss9",
        "outputId": "1cb679d0-68de-4b7a-fac2-fca79b8416a4"
      },
      "source": [
        "titanic_df.where(titanic_df.Age>25).agg({'Fare':'avg'})"
      ],
      "execution_count": 29,
      "outputs": [
        {
          "output_type": "execute_result",
          "data": {
            "text/html": [
              "<table border='1'>\n",
              "<tr><th>avg(Fare)</th></tr>\n",
              "<tr><td>37.61960169491524</td></tr>\n",
              "</table>\n"
            ],
            "text/plain": [
              "+-----------------+\n",
              "|        avg(Fare)|\n",
              "+-----------------+\n",
              "|37.61960169491524|\n",
              "+-----------------+"
            ]
          },
          "metadata": {},
          "execution_count": 29
        }
      ]
    },
    {
      "cell_type": "code",
      "metadata": {
        "colab": {
          "base_uri": "https://localhost:8080/",
          "height": 529
        },
        "id": "83F7zNG-CKaN",
        "outputId": "8756a253-ea9f-41fd-e5d8-45a6731a2cf7"
      },
      "source": [
        "from pyspark.sql.types import IntegerType\n",
        "from pyspark.sql.functions import udf\n",
        "\n",
        "def round_float_down(x):\n",
        "  return int(x)\n",
        "\n",
        "round_float_down_udf = udf(round_float_down, IntegerType())\n",
        "titanic_df.select('Name','Fare',round_float_down_udf('Fare').alias('Fare rounded'))"
      ],
      "execution_count": 34,
      "outputs": [
        {
          "output_type": "execute_result",
          "data": {
            "text/html": [
              "<table border='1'>\n",
              "<tr><th>Name</th><th>Fare</th><th>Fare rounded</th></tr>\n",
              "<tr><td>Braund, Mr. Owen ...</td><td>7.25</td><td>7</td></tr>\n",
              "<tr><td>Cumings, Mrs. Joh...</td><td>71.2833</td><td>71</td></tr>\n",
              "<tr><td>Heikkinen, Miss. ...</td><td>7.925</td><td>7</td></tr>\n",
              "<tr><td>Futrelle, Mrs. Ja...</td><td>53.1</td><td>53</td></tr>\n",
              "<tr><td>Allen, Mr. Willia...</td><td>8.05</td><td>8</td></tr>\n",
              "<tr><td>Moran, Mr. James</td><td>8.4583</td><td>8</td></tr>\n",
              "<tr><td>McCarthy, Mr. Tim...</td><td>51.8625</td><td>51</td></tr>\n",
              "<tr><td>Palsson, Master. ...</td><td>21.075</td><td>21</td></tr>\n",
              "<tr><td>Johnson, Mrs. Osc...</td><td>11.1333</td><td>11</td></tr>\n",
              "<tr><td>Nasser, Mrs. Nich...</td><td>30.0708</td><td>30</td></tr>\n",
              "<tr><td>Sandstrom, Miss. ...</td><td>16.7</td><td>16</td></tr>\n",
              "<tr><td>Bonnell, Miss. El...</td><td>26.55</td><td>26</td></tr>\n",
              "<tr><td>Saundercock, Mr. ...</td><td>8.05</td><td>8</td></tr>\n",
              "<tr><td>Andersson, Mr. An...</td><td>31.275</td><td>31</td></tr>\n",
              "<tr><td>Vestrom, Miss. Hu...</td><td>7.8542</td><td>7</td></tr>\n",
              "<tr><td>Hewlett, Mrs. (Ma...</td><td>16.0</td><td>16</td></tr>\n",
              "<tr><td>Rice, Master. Eugene</td><td>29.125</td><td>29</td></tr>\n",
              "<tr><td>Williams, Mr. Cha...</td><td>13.0</td><td>13</td></tr>\n",
              "<tr><td>Vander Planke, Mr...</td><td>18.0</td><td>18</td></tr>\n",
              "<tr><td>Masselmani, Mrs. ...</td><td>7.225</td><td>7</td></tr>\n",
              "</table>\n",
              "only showing top 20 rows\n"
            ],
            "text/plain": [
              "+--------------------+-------+------------+\n",
              "|                Name|   Fare|Fare rounded|\n",
              "+--------------------+-------+------------+\n",
              "|Braund, Mr. Owen ...|   7.25|           7|\n",
              "|Cumings, Mrs. Joh...|71.2833|          71|\n",
              "|Heikkinen, Miss. ...|  7.925|           7|\n",
              "|Futrelle, Mrs. Ja...|   53.1|          53|\n",
              "|Allen, Mr. Willia...|   8.05|           8|\n",
              "|    Moran, Mr. James| 8.4583|           8|\n",
              "|McCarthy, Mr. Tim...|51.8625|          51|\n",
              "|Palsson, Master. ...| 21.075|          21|\n",
              "|Johnson, Mrs. Osc...|11.1333|          11|\n",
              "|Nasser, Mrs. Nich...|30.0708|          30|\n",
              "|Sandstrom, Miss. ...|   16.7|          16|\n",
              "|Bonnell, Miss. El...|  26.55|          26|\n",
              "|Saundercock, Mr. ...|   8.05|           8|\n",
              "|Andersson, Mr. An...| 31.275|          31|\n",
              "|Vestrom, Miss. Hu...| 7.8542|           7|\n",
              "|Hewlett, Mrs. (Ma...|   16.0|          16|\n",
              "|Rice, Master. Eugene| 29.125|          29|\n",
              "|Williams, Mr. Cha...|   13.0|          13|\n",
              "|Vander Planke, Mr...|   18.0|          18|\n",
              "|Masselmani, Mrs. ...|  7.225|           7|\n",
              "+--------------------+-------+------------+\n",
              "only showing top 20 rows"
            ]
          },
          "metadata": {},
          "execution_count": 34
        }
      ]
    },
    {
      "cell_type": "code",
      "metadata": {
        "id": "sjor0xcjYHp5"
      },
      "source": [
        ""
      ],
      "execution_count": null,
      "outputs": []
    }
  ]
}